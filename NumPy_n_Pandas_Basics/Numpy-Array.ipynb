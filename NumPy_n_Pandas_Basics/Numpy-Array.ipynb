{
 "cells": [
  {
   "cell_type": "code",
   "execution_count": 29,
   "id": "a36bb2e0-e04e-49db-b228-cfb388bfc3df",
   "metadata": {},
   "outputs": [],
   "source": [
    "import numpy as np"
   ]
  },
  {
   "cell_type": "code",
   "execution_count": 3,
   "id": "64d2eb96-1931-4abd-b6fc-09228069f6df",
   "metadata": {},
   "outputs": [],
   "source": [
    "array = np.array(range (5))\n",
    "#panda making an array for first 5 numbers"
   ]
  },
  {
   "cell_type": "code",
   "execution_count": 4,
   "id": "19595911-28c1-449f-86a3-a467673ca7a3",
   "metadata": {},
   "outputs": [
    {
     "data": {
      "text/plain": [
       "array([0, 1, 2, 3, 4])"
      ]
     },
     "execution_count": 4,
     "metadata": {},
     "output_type": "execute_result"
    }
   ],
   "source": [
    "array\n",
    "#it will just output the array"
   ]
  },
  {
   "cell_type": "code",
   "execution_count": 5,
   "id": "4f39a4c8-5f03-4dd3-8afd-e2fa20fb5ee5",
   "metadata": {},
   "outputs": [
    {
     "data": {
      "text/plain": [
       "array([ 10,  20,  30,  40,  50,  60,  70,  80,  90, 100, 110])"
      ]
     },
     "execution_count": 5,
     "metadata": {},
     "output_type": "execute_result"
    }
   ],
   "source": [
    "array_loop = [x * 10 for x in range(1,12)]\n",
    "array_loop = np.array(array_loop)\n",
    "\n",
    "array_loop"
   ]
  },
  {
   "cell_type": "markdown",
   "id": "fb602d9b-8fdf-4f9e-bd53-717c5a5ef215",
   "metadata": {},
   "source": [
    "- range includes first param, excludes the last one\n",
    "- we are re assigning the array by going through np so that we can perform numpy"
   ]
  },
  {
   "cell_type": "code",
   "execution_count": 6,
   "id": "5a2464f8-79c3-4940-b0b1-f2200e11a6cc",
   "metadata": {},
   "outputs": [
    {
     "data": {
      "text/plain": [
       "array([[ 10,  20],\n",
       "       [ 30,  40],\n",
       "       [ 50,  60],\n",
       "       [ 70,  80],\n",
       "       [ 90, 100]])"
      ]
     },
     "execution_count": 6,
     "metadata": {},
     "output_type": "execute_result"
    }
   ],
   "source": [
    "array_loop = [x * 10 for x in range(1,11)]\n",
    "array_loop = np.array(array_loop).reshape(5,2)\n",
    "array_loop"
   ]
  },
  {
   "cell_type": "markdown",
   "id": "9ee2c6b6-83db-4086-bf0d-344982868b6e",
   "metadata": {},
   "source": [
    "- reshape will shape the existing array to (**row number**, **column number** )\n",
    "- the parameters should match accordingly ( Like we cant put 5, 3 here )  , cuz 5X3=15, but here we got 10 entries"
   ]
  },
  {
   "cell_type": "code",
   "execution_count": 7,
   "id": "d6cfc8bd-c0ef-44ee-83cd-bccde3782a1b",
   "metadata": {},
   "outputs": [
    {
     "data": {
      "text/plain": [
       "array([[0, 1, 2, 3, 4],\n",
       "       [0, 1, 2, 3, 4]])"
      ]
     },
     "execution_count": 7,
     "metadata": {},
     "output_type": "execute_result"
    }
   ],
   "source": [
    "array_2d = np.array([range (5),range (5)])\n",
    "#panda making a 2D array for first 5 by 5 numbers\n",
    "\n",
    "array_2d"
   ]
  },
  {
   "cell_type": "code",
   "execution_count": 8,
   "id": "ef7d0871-90c9-460d-be78-523b85263d17",
   "metadata": {},
   "outputs": [
    {
     "data": {
      "text/plain": [
       "(5,)"
      ]
     },
     "execution_count": 8,
     "metadata": {},
     "output_type": "execute_result"
    }
   ],
   "source": [
    "array.shape"
   ]
  },
  {
   "cell_type": "code",
   "execution_count": 9,
   "id": "5d100a61-5f97-4bb8-9f6a-81a0da759eba",
   "metadata": {},
   "outputs": [
    {
     "data": {
      "text/plain": [
       "(2, 5)"
      ]
     },
     "execution_count": 9,
     "metadata": {},
     "output_type": "execute_result"
    }
   ],
   "source": [
    "array_2d.shape"
   ]
  },
  {
   "cell_type": "markdown",
   "id": "20a0b121-1ac0-44c8-9458-49be4b1198b0",
   "metadata": {},
   "source": [
    "**shape** will say ***(row number , column number )*** \n",
    "\n",
    "for 1D array , *it will only return the column number at first* , which is confusing"
   ]
  },
  {
   "cell_type": "code",
   "execution_count": 10,
   "id": "3e0c93a6-6c3a-43b7-8718-3f71e829e6f7",
   "metadata": {},
   "outputs": [
    {
     "data": {
      "text/plain": [
       "array([[0, 0],\n",
       "       [1, 1],\n",
       "       [2, 2],\n",
       "       [3, 3],\n",
       "       [4, 4]])"
      ]
     },
     "execution_count": 10,
     "metadata": {},
     "output_type": "execute_result"
    }
   ],
   "source": [
    "array_2d.T\n"
   ]
  },
  {
   "cell_type": "markdown",
   "id": "073b2aed-77a3-4a65-b4b5-e1d5aa792ee4",
   "metadata": {},
   "source": [
    " array_2d.T will make a new ***transpose matrix***\n",
    "\n",
    " The transpose of a matrix is a new matrix obtained by **interchanging** its rows and columns"
   ]
  },
  {
   "cell_type": "code",
   "execution_count": 11,
   "id": "077dffb8-b5fe-4a68-8e29-5026ecbe1920",
   "metadata": {},
   "outputs": [
    {
     "data": {
      "text/plain": [
       "5"
      ]
     },
     "execution_count": 11,
     "metadata": {},
     "output_type": "execute_result"
    }
   ],
   "source": [
    "array.size\n",
    "#will return array length"
   ]
  },
  {
   "cell_type": "code",
   "execution_count": 12,
   "id": "0ae728b0-c1e0-422f-866e-273cc5c6dd88",
   "metadata": {},
   "outputs": [
    {
     "data": {
      "text/plain": [
       "10"
      ]
     },
     "execution_count": 12,
     "metadata": {},
     "output_type": "execute_result"
    }
   ],
   "source": [
    "array_2d.size"
   ]
  },
  {
   "cell_type": "code",
   "execution_count": 13,
   "id": "614de981-0e71-46b3-814d-28d77785429a",
   "metadata": {},
   "outputs": [
    {
     "data": {
      "text/plain": [
       "1"
      ]
     },
     "execution_count": 13,
     "metadata": {},
     "output_type": "execute_result"
    }
   ],
   "source": [
    "array.ndim\n",
    "#will retuen number of dimension"
   ]
  },
  {
   "cell_type": "code",
   "execution_count": 14,
   "id": "5cef1f1f-b107-48ab-a5c5-a932e4d950a2",
   "metadata": {},
   "outputs": [
    {
     "data": {
      "text/plain": [
       "2"
      ]
     },
     "execution_count": 14,
     "metadata": {},
     "output_type": "execute_result"
    }
   ],
   "source": [
    "array_2d.ndim"
   ]
  },
  {
   "cell_type": "code",
   "execution_count": 15,
   "id": "c8634419-ed73-4eb4-96a6-cb4b48f6c7a2",
   "metadata": {},
   "outputs": [
    {
     "data": {
      "text/plain": [
       "dtype('int64')"
      ]
     },
     "execution_count": 15,
     "metadata": {},
     "output_type": "execute_result"
    }
   ],
   "source": [
    "array.dtype\n",
    "#return data type"
   ]
  },
  {
   "cell_type": "code",
   "execution_count": 16,
   "id": "9b97993e-bafe-4d08-8031-d34af8e42f45",
   "metadata": {},
   "outputs": [
    {
     "data": {
      "text/plain": [
       "dtype('int64')"
      ]
     },
     "execution_count": 16,
     "metadata": {},
     "output_type": "execute_result"
    }
   ],
   "source": [
    "array_2d.dtype"
   ]
  },
  {
   "cell_type": "code",
   "execution_count": 17,
   "id": "2e8195c1-1b4b-4205-bd53-146e7a5baced",
   "metadata": {},
   "outputs": [
    {
     "data": {
      "text/plain": [
       "array(['This', 'is', 'RIFFF'], dtype='<U5')"
      ]
     },
     "execution_count": 17,
     "metadata": {},
     "output_type": "execute_result"
    }
   ],
   "source": [
    "np.array(['This','is','RIFFF'])"
   ]
  },
  {
   "cell_type": "markdown",
   "id": "a14d7da3-b2fc-46a7-a60e-1fe37625c385",
   "metadata": {},
   "source": [
    "- **<** : Indicates little-endian byte order (which is generally the default for most systems).\n",
    "- **U5**: Refers to Unicode string with a maximum length of 5 characters. The U stands for Unicode, and 5 specifies the maximum length of the string."
   ]
  },
  {
   "cell_type": "markdown",
   "id": "0c18ec43-f1aa-47da-a22b-f9f0456f86e6",
   "metadata": {},
   "source": [
    "# Making 2D Array in pandas"
   ]
  },
  {
   "cell_type": "code",
   "execution_count": 18,
   "id": "a7533397-90a2-4213-97a5-ebbf0140b252",
   "metadata": {},
   "outputs": [
    {
     "data": {
      "text/plain": [
       "array([[ 1,  2],\n",
       "       [ 3,  4],\n",
       "       [ 5,  6],\n",
       "       [ 7,  8],\n",
       "       [ 9, 10]])"
      ]
     },
     "execution_count": 18,
     "metadata": {},
     "output_type": "execute_result"
    }
   ],
   "source": [
    "#making an array with 5 rows and 2 colummn\n",
    "array_01 = np.array(list(range(1, 11))).reshape(5, 2)\n",
    "\n",
    "array_01"
   ]
  },
  {
   "cell_type": "code",
   "execution_count": 19,
   "id": "b9beeaa3-33ed-4cac-9f8e-3cf84fcb9ee5",
   "metadata": {},
   "outputs": [
    {
     "data": {
      "text/plain": [
       "array([[ 1,  2],\n",
       "       [ 3,  4],\n",
       "       [ 5,  6],\n",
       "       [ 7,  8],\n",
       "       [ 9, 10]])"
      ]
     },
     "execution_count": 19,
     "metadata": {},
     "output_type": "execute_result"
    }
   ],
   "source": [
    "#another way \n",
    "rows = []\n",
    "\n",
    "# Loop to generate rows\n",
    "for i in range(5):\n",
    "    row = [2 * i + 1, 2 * i + 2]  # This creates pairs (1, 2), (3, 4), etc.\n",
    "    rows.append(row)\n",
    "\n",
    "# Convert the list of rows into a NumPy array\n",
    "array_01 = np.array(rows)\n",
    "\n",
    "array_01"
   ]
  },
  {
   "cell_type": "markdown",
   "id": "ab68ab4b-06b3-427d-a489-1e4023f3606f",
   "metadata": {},
   "source": [
    "# Making array of random Numbers"
   ]
  },
  {
   "cell_type": "code",
   "execution_count": 20,
   "id": "347b6f0c-d170-4571-a27c-e2bfa0329a6b",
   "metadata": {},
   "outputs": [
    {
     "data": {
      "text/plain": [
       "array([[0.54340494, 0.27836939, 0.42451759, 0.84477613],\n",
       "       [0.00471886, 0.12156912, 0.67074908, 0.82585276],\n",
       "       [0.13670659, 0.57509333, 0.89132195, 0.20920212],\n",
       "       [0.18532822, 0.10837689, 0.21969749, 0.97862378]])"
      ]
     },
     "execution_count": 20,
     "metadata": {},
     "output_type": "execute_result"
    }
   ],
   "source": [
    "np.random.seed(100)\n",
    "\n",
    "# Create a 4x4 array of random numbers between 0 and 1\n",
    "array_random = np.random.rand(4, 4)\n",
    "\n",
    "array_random"
   ]
  },
  {
   "cell_type": "markdown",
   "id": "ba52cc8a-ba30-46da-a44d-5b9a19979880",
   "metadata": {},
   "source": [
    "### seed\n",
    "- The random seed is a number (in this case, 100) used by the random number generator algorithm to ensure that the sequence of random numbers produced is always the same each time you run the code.\n",
    "- Without setting a seed, the sequence of random numbers would be different each time you run the code.\n",
    "- **Reproducibility**: By setting the seed, you ensure that you can reproduce the exact same set of random numbers in the future, which is useful for debugging and testing.\n",
    "- \n",
    "### np.random.rand() \n",
    "this generates random numbers from a uniform distribution over the interval [0, 1). This means the numbers will be between 0 (inclusive) and 1 (exclusive).\n",
    "\n",
    "- np.random.rand(m, n) will generate  m by n array with random numbers from 0 to 1\n",
    "- if we wanna generate random numbers from 0 to x , just multiply it\n",
    "- \n",
    "Like *np.random.rand(m, n) * x*"
   ]
  },
  {
   "cell_type": "code",
   "execution_count": 21,
   "id": "1c52c335-4fb9-42d7-a38a-c8e4c7890a60",
   "metadata": {},
   "outputs": [
    {
     "data": {
      "text/plain": [
       "array([[4.05841575, 0.85970506, 4.08112374, 1.37036874],\n",
       "       [2.15852092, 4.7001491 , 4.08824689, 1.68055975],\n",
       "       [0.87705227, 1.86416023, 0.02844254, 1.26213177],\n",
       "       [3.97831254, 0.07627486, 2.99421688, 3.0190227 ]])"
      ]
     },
     "execution_count": 21,
     "metadata": {},
     "output_type": "execute_result"
    }
   ],
   "source": [
    "# Create a 4x4 array of random numbers between 0 and 5\n",
    "array_random = np.random.rand(4, 4) * 5\n",
    "\n",
    "array_random"
   ]
  },
  {
   "cell_type": "markdown",
   "id": "25eedaa4-24b1-42b1-a1a2-6e31e210866d",
   "metadata": {},
   "source": [
    "- **np.ones((rows,cols),dtypes)** Creates an array of ones of a given size, as float by default\n",
    "- **np.zeros((rows, cols), dtype)** Creates an array of zeros of a given size, as float by default\n",
    "- **np.arange(start, stop, step)** Creates an array of integers with given start & stop values, and a step size (only stop is required, and is not inclusive)\n",
    "- **np.linspace(start, stop, n)** Creates an array of floats with given start & stop values with n elements, separated by a consistent step size (stop is inclusive)\n",
    "- **np.array.reshape(rows, cols)**  Changes an array into the specified dimensions, if compatible"
   ]
  },
  {
   "cell_type": "code",
   "execution_count": 31,
   "id": "66fae398-fbbd-416a-b92a-e48a380e75c6",
   "metadata": {},
   "outputs": [
    {
     "data": {
      "text/plain": [
       "array([1., 1., 1., 1., 1.])"
      ]
     },
     "execution_count": 31,
     "metadata": {},
     "output_type": "execute_result"
    }
   ],
   "source": [
    "np.ones((5,),)"
   ]
  },
  {
   "cell_type": "code",
   "execution_count": 23,
   "id": "b79c703c-85a1-479c-926c-2a8d0e18c8db",
   "metadata": {},
   "outputs": [
    {
     "data": {
      "text/plain": [
       "array([[1, 1, 1, 1, 1],\n",
       "       [1, 1, 1, 1, 1],\n",
       "       [1, 1, 1, 1, 1],\n",
       "       [1, 1, 1, 1, 1],\n",
       "       [1, 1, 1, 1, 1]])"
      ]
     },
     "execution_count": 23,
     "metadata": {},
     "output_type": "execute_result"
    }
   ],
   "source": [
    "np.ones((5,5),int)"
   ]
  },
  {
   "cell_type": "code",
   "execution_count": 24,
   "id": "c5abee83-2e01-42e5-bd06-cc5982566e17",
   "metadata": {},
   "outputs": [
    {
     "data": {
      "text/plain": [
       "array([1, 2, 3, 4, 5, 6, 7, 8, 9])"
      ]
     },
     "execution_count": 24,
     "metadata": {},
     "output_type": "execute_result"
    }
   ],
   "source": [
    "np.arange(1, 10, 1)"
   ]
  },
  {
   "cell_type": "code",
   "execution_count": 25,
   "id": "c9589ec1-8e22-435c-841a-ddc891e1db1f",
   "metadata": {},
   "outputs": [
    {
     "data": {
      "text/plain": [
       "array([1, 6])"
      ]
     },
     "execution_count": 25,
     "metadata": {},
     "output_type": "execute_result"
    }
   ],
   "source": [
    "np.arange(1, 10, 5)"
   ]
  },
  {
   "cell_type": "code",
   "execution_count": 26,
   "id": "df758ec7-1cc1-430a-a9d9-4159a7757549",
   "metadata": {},
   "outputs": [
    {
     "data": {
      "text/plain": [
       "array([  0.,  25.,  50.,  75., 100.])"
      ]
     },
     "execution_count": 26,
     "metadata": {},
     "output_type": "execute_result"
    }
   ],
   "source": [
    "np.linspace(0, 100, 5) "
   ]
  },
  {
   "cell_type": "markdown",
   "id": "ea42f0d7-b413-4ba0-938a-3c0a3eeac1c2",
   "metadata": {},
   "source": [
    "## Problem Statement\n",
    "**Make an array 5X2 with all 10th numbers**\n",
    "\n",
    "### Solution"
   ]
  },
  {
   "cell_type": "code",
   "execution_count": 34,
   "id": "a19978a1-434a-4315-b2cc-4e3c9f1ed21a",
   "metadata": {},
   "outputs": [
    {
     "data": {
      "text/plain": [
       "array([[ 10.,  20.],\n",
       "       [ 30.,  40.],\n",
       "       [ 50.,  60.],\n",
       "       [ 70.,  80.],\n",
       "       [ 90., 100.]])"
      ]
     },
     "execution_count": 34,
     "metadata": {},
     "output_type": "execute_result"
    }
   ],
   "source": [
    "array_10namta = np.linspace(10, 100, 10).reshape(5,2)\n",
    "array_10namta"
   ]
  },
  {
   "cell_type": "code",
   "execution_count": 35,
   "id": "1d28062f-916c-444e-ba7f-1a830fd4396e",
   "metadata": {},
   "outputs": [
    {
     "data": {
      "text/plain": [
       "array([[ 10,  20],\n",
       "       [ 30,  40],\n",
       "       [ 50,  60],\n",
       "       [ 70,  80],\n",
       "       [ 90, 100]])"
      ]
     },
     "execution_count": 35,
     "metadata": {},
     "output_type": "execute_result"
    }
   ],
   "source": [
    "array_10namta = np.arange(10, 101, 10).reshape(5,2)\n",
    "array_10namta"
   ]
  },
  {
   "cell_type": "code",
   "execution_count": 38,
   "id": "a759f9d2-b6b8-4f2d-b9db-2050bf95d0e6",
   "metadata": {},
   "outputs": [
    {
     "data": {
      "text/plain": [
       "array([ 10,  20,  30,  40,  50,  60,  70,  80,  90, 100])"
      ]
     },
     "execution_count": 38,
     "metadata": {},
     "output_type": "execute_result"
    }
   ],
   "source": [
    "array_10namta = (np.arange(1, 11)* 10)\n",
    "array_10namta"
   ]
  },
  {
   "cell_type": "code",
   "execution_count": 39,
   "id": "146fefe7-09b3-4b06-8a72-f35825af53f0",
   "metadata": {},
   "outputs": [
    {
     "data": {
      "text/plain": [
       "array([[ 10,  20],\n",
       "       [ 30,  40],\n",
       "       [ 50,  60],\n",
       "       [ 70,  80],\n",
       "       [ 90, 100]])"
      ]
     },
     "execution_count": 39,
     "metadata": {},
     "output_type": "execute_result"
    }
   ],
   "source": [
    "array_10namta = (np.arange(1, 11)* 10).reshape(5,2)\n",
    "array_10namta"
   ]
  },
  {
   "cell_type": "code",
   "execution_count": null,
   "id": "2db7ef91-679e-4a69-b8e7-90ce01768768",
   "metadata": {},
   "outputs": [],
   "source": []
  }
 ],
 "metadata": {
  "kernelspec": {
   "display_name": "Python 3 (ipykernel)",
   "language": "python",
   "name": "python3"
  },
  "language_info": {
   "codemirror_mode": {
    "name": "ipython",
    "version": 3
   },
   "file_extension": ".py",
   "mimetype": "text/x-python",
   "name": "python",
   "nbconvert_exporter": "python",
   "pygments_lexer": "ipython3",
   "version": "3.13.2"
  }
 },
 "nbformat": 4,
 "nbformat_minor": 5
}
